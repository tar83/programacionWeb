{
  "nbformat": 4,
  "nbformat_minor": 0,
  "metadata": {
    "colab": {
      "provenance": [],
      "authorship_tag": "ABX9TyPaHhzSljVHJkcu1oh28hAL",
      "include_colab_link": true
    },
    "kernelspec": {
      "name": "python3",
      "display_name": "Python 3"
    },
    "language_info": {
      "name": "python"
    }
  },
  "cells": [
    {
      "cell_type": "markdown",
      "metadata": {
        "id": "view-in-github",
        "colab_type": "text"
      },
      "source": [
        "<a href=\"https://colab.research.google.com/github/tar83/programacionWeb/blob/main/IMC.ipynb\" target=\"_parent\"><img src=\"https://colab.research.google.com/assets/colab-badge.svg\" alt=\"Open In Colab\"/></a>"
      ]
    },
    {
      "cell_type": "markdown",
      "source": [
        "## Cálculo del índice de masa corporal"
      ],
      "metadata": {
        "id": "crFfd3dnHt-b"
      }
    },
    {
      "cell_type": "code",
      "source": [
        "#@title Cálculo del IMC\n",
        "estatura = 1.75 #@param {type:\"number\"}\n",
        "peso = 80 #@param {type:\"number\"}\n",
        "imc = peso / estatura**2\n",
        "print(\"El índice de masa corporal es:\")\n",
        "print(imc)"
      ],
      "metadata": {
        "colab": {
          "base_uri": "https://localhost:8080/"
        },
        "id": "vHnJT4oJG31l",
        "outputId": "aa386b6a-8e97-484c-bafa-db4be4dde74e"
      },
      "execution_count": 1,
      "outputs": [
        {
          "output_type": "stream",
          "name": "stdout",
          "text": [
            "El índice de masa corporal es:\n",
            "26.122448979591837\n"
          ]
        }
      ]
    }
  ]
}